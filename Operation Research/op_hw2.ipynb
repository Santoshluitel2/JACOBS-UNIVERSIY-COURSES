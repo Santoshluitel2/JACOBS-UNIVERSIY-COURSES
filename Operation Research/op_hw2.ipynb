{
 "cells": [
  {
   "cell_type": "code",
   "metadata": {
    "colab": {
     "base_uri": "https://localhost:8080/"
    },
    "id": "XrC6cTHpJKUP",
    "outputId": "f82f1230-522d-43e2-b366-1f812a5f4da5",
    "deepnote_to_be_reexecuted": false,
    "source_hash": "737d0e9e",
    "execution_start": 1633372058609,
    "execution_millis": 6296,
    "cell_id": "00000-48bbd857-15df-4af3-899d-8a8ea62c4ef2",
    "allow_embed": "code_output",
    "deepnote_cell_type": "code"
   },
   "source": "#googlecollab \n# !apt-get install -y -qq glpk-utils\n#!pip install pyomo\n\n#for ubuntu\n#!pip install pyomo\n#!sudo apt-get update -y \n#!sudo apt-get install -y glpk-utils",
   "outputs": [
    {
     "name": "stdout",
     "text": "Requirement already satisfied: pyomo in /root/venv/lib/python3.7/site-packages (6.1.2)\nRequirement already satisfied: ply in /root/venv/lib/python3.7/site-packages (from pyomo) (3.11)\nHit:1 http://deb.debian.org/debian buster InRelease\nHit:2 http://deb.debian.org/debian buster-updates InRelease\nHit:3 http://security.debian.org/debian-security buster/updates InRelease\n\n\n\n\nglpk-utils is already the newest version (4.65-2).\n0 upgraded, 0 newly installed, 0 to remove and 11 not upgraded.\n",
     "output_type": "stream"
    }
   ],
   "execution_count": null
  },
  {
   "cell_type": "code",
   "metadata": {
    "id": "UqZWqqZOJ8Vs",
    "deepnote_to_be_reexecuted": false,
    "source_hash": "d8ce88af",
    "execution_start": 1633372064911,
    "execution_millis": 269,
    "cell_id": "00001-7c7f5f75-8830-4273-a524-450eb6bdeeb5",
    "deepnote_cell_type": "code"
   },
   "source": "#importing library\nfrom pyomo.environ import *\nfrom pyomo.opt import *\n\nsolver= SolverFactory('glpk')\nmodel = ConcreteModel()\nmodel.dual=Suffix(direction=Suffix.IMPORT)\n",
   "outputs": [],
   "execution_count": null
  },
  {
   "cell_type": "markdown",
   "source": "# (a) Write a Pyomo program to solve this LP problem",
   "metadata": {
    "tags": [],
    "is_collapsed": false,
    "cell_id": "00002-4d9aee83-bc44-40c5-ab53-06728cdecbc3",
    "deepnote_cell_type": "text-cell-h1"
   }
  },
  {
   "cell_type": "code",
   "metadata": {
    "id": "YiK7fxVMDYpA",
    "deepnote_to_be_reexecuted": false,
    "source_hash": "28617d70",
    "execution_start": 1633372065186,
    "execution_millis": 1,
    "cell_id": "00002-f0da1e71-2a5c-4956-829e-8352b93b020a",
    "deepnote_cell_type": "code"
   },
   "source": "#creating non negative variables x and y\nmodel.x=Var(domain=NonNegativeReals)\nmodel.y=Var(domain=NonNegativeReals)",
   "outputs": [],
   "execution_count": null
  },
  {
   "cell_type": "code",
   "metadata": {
    "id": "zmBwj_eNX6Qr",
    "deepnote_to_be_reexecuted": false,
    "source_hash": "76164862",
    "execution_start": 1633372065196,
    "execution_millis": 3,
    "cell_id": "00003-8aac5721-1db8-4e86-ba19-fdc4cded5eeb",
    "deepnote_cell_type": "code"
   },
   "source": "#creating objective and constrains\nmodel.z=Objective(expr=8*model.x +12*model.y)\nmodel.c1=Constraint(expr=(5*model.x + 2*model.y)>=20)\nmodel.c2=Constraint(expr=(4*model.x + 3*model.y)>=24)\nmodel.c3=Constraint(expr=model.y>=2)\n",
   "outputs": [],
   "execution_count": null
  },
  {
   "cell_type": "code",
   "metadata": {
    "id": "ctNUX8bGW7Am",
    "colab": {
     "base_uri": "https://localhost:8080/"
    },
    "outputId": "dc889250-4f83-4928-ed47-5c6e2f353076",
    "deepnote_to_be_reexecuted": false,
    "source_hash": "b60018eb",
    "execution_start": 1633372065206,
    "execution_millis": 14,
    "cell_id": "00004-d0f3e7df-6201-46da-ab72-ed2649a9e603",
    "deepnote_cell_type": "code"
   },
   "source": "#solving\nresult= solver.solve(model)\n",
   "outputs": [],
   "execution_count": null
  },
  {
   "cell_type": "code",
   "metadata": {
    "colab": {
     "base_uri": "https://localhost:8080/"
    },
    "id": "rgBi-DdWDfud",
    "outputId": "a8c5de59-7a3c-4cc6-96bf-86fc9e00da28",
    "deepnote_to_be_reexecuted": false,
    "source_hash": "bb6226d2",
    "execution_start": 1633372065228,
    "execution_millis": 6,
    "cell_id": "00005-cc6c4a84-0ce0-4f54-99db-368ad83ed4c1",
    "deepnote_cell_type": "code"
   },
   "source": "#final result\nprint(\"the value of x is \" +  str(value(model.x)))\nprint(\"the value of y is \" + str(value(model.y)))\nprint(\"the minimum value is \" + str(value(model.z)))\n",
   "outputs": [
    {
     "name": "stdout",
     "text": "the value of x is 4.5\nthe value of y is 2.0\nthe minimum value is 60.0\n",
     "output_type": "stream"
    }
   ],
   "execution_count": null
  },
  {
   "cell_type": "code",
   "source": "model.dual[model.c1],model.dual[model.c2],model.dual[model.c3]",
   "metadata": {
    "tags": [],
    "cell_id": "00006-379d49d7-0ee5-4f27-adea-5101387f01ca",
    "deepnote_to_be_reexecuted": false,
    "source_hash": "2cb410bb",
    "execution_start": 1633372065246,
    "execution_millis": 5,
    "deepnote_cell_type": "code"
   },
   "outputs": [
    {
     "output_type": "execute_result",
     "execution_count": 7,
     "data": {
      "text/plain": "(0.0, 2.0, 6.0)"
     },
     "metadata": {}
    }
   ],
   "execution_count": null
  },
  {
   "cell_type": "code",
   "source": "#creating non negative variables x1 x2 and x3\ndual=ConcreteModel()\ndual.x1=Var(domain=NonNegativeReals)\ndual.x2=Var(domain=NonNegativeReals)\ndual.x3=Var(domain=NonNegativeReals)",
   "metadata": {
    "tags": [],
    "cell_id": "00008-a8d1ab19-bd1e-4994-b8d4-a7b8dbac12a7",
    "deepnote_to_be_reexecuted": false,
    "source_hash": "161171b6",
    "execution_start": 1633372065295,
    "execution_millis": 0,
    "deepnote_cell_type": "code"
   },
   "outputs": [],
   "execution_count": null
  },
  {
   "cell_type": "code",
   "source": "#creating objective and constrains\ndual.z1=Objective(expr=20*dual.x1 +24*dual.x2 + 2*dual.x3,sense=maximize)\ndual.c1=Constraint(expr=(5*dual.x1 + 4*dual.x2 )<=8)\ndual.c2=Constraint(expr=(2*dual.x1 + 3*dual.x2 +dual.x3)<=12)",
   "metadata": {
    "tags": [],
    "cell_id": "00010-be38d05b-29ba-4664-be4c-93b886f87727",
    "deepnote_to_be_reexecuted": false,
    "source_hash": "e9a82fe2",
    "execution_start": 1633372065296,
    "execution_millis": 0,
    "deepnote_cell_type": "code"
   },
   "outputs": [],
   "execution_count": null
  },
  {
   "cell_type": "code",
   "source": "result1=solver.solve(dual)\n#final result\nprint(\"the value of x1 is \" +  str(value(dual.x1)))\nprint(\"the value of x2 is \" + str(value(dual.x2)))\nprint(\"the value of x3 is \"+ str(value(dual.x3)))\nprint(\"the maximum value is \" + str(value(dual.z1)))\n\n\n",
   "metadata": {
    "tags": [],
    "cell_id": "00011-4593ea9f-e70b-4116-bc0c-eed1d8bf6262",
    "deepnote_to_be_reexecuted": false,
    "source_hash": "3eab61a1",
    "execution_start": 1633372065296,
    "execution_millis": 5,
    "deepnote_cell_type": "code"
   },
   "outputs": [
    {
     "name": "stdout",
     "text": "the value of x1 is 0.0\nthe value of x2 is 2.0\nthe value of x3 is 6.0\nthe maximum value is 60.0\n",
     "output_type": "stream"
    }
   ],
   "execution_count": null
  },
  {
   "cell_type": "markdown",
   "source": "# (e) Give an interpretation of the meaning of all parameters and decision variables in\nthe primal and dual problem",
   "metadata": {
    "tags": [],
    "is_collapsed": false,
    "cell_id": "00015-4f71877c-9d43-4230-b0ab-bd8700cf4657",
    "deepnote_cell_type": "text-cell-h1"
   }
  },
  {
   "cell_type": "markdown",
   "source": "in terms of dual  problem,for two product x1 and x2 and x3 have the unit profit of 20, 24 and 2respectively. contraints can be considered as machines which need to do its job for final output. The constants on the right hand side are the total avaiable hours of the machine and the number before the variable are the total hours they require. for this particular machine.                                                                                                    shadow prices can be considered as  ratio change in profit when a unit of production hours is changed. it shows how benefitial it is show change the production hours and compare between different machines i.e constraints.                                                                                                                                                                                                                                                                                                  similar idea can be brought for primal problems in terms of cost may be which should be minimized.",
   "metadata": {
    "tags": [],
    "is_collapsed": false,
    "deepnote_cell_type": "text-cell-p"
   }
  },
  {
   "cell_type": "markdown",
   "source": "",
   "metadata": {
    "tags": [],
    "is_collapsed": false,
    "deepnote_cell_type": "text-cell-p"
   }
  },
  {
   "cell_type": "markdown",
   "source": "",
   "metadata": {
    "tags": [],
    "is_collapsed": false,
    "deepnote_cell_type": "text-cell-p"
   }
  },
  {
   "cell_type": "markdown",
   "source": "",
   "metadata": {
    "tags": [],
    "is_collapsed": false,
    "deepnote_cell_type": "text-cell-p"
   }
  },
  {
   "cell_type": "markdown",
   "source": "<a style='text-decoration:none;line-height:16px;display:flex;color:#5B5B62;padding:10px;justify-content:end;' href='https://deepnote.com?utm_source=created-in-deepnote-cell&projectId=61d9f83c-8db3-4de6-9c54-440927b39eca' target=\"_blank\">\n<img alt='Created in deepnote.com' style='display:inline;max-height:16px;margin:0px;margin-right:7.5px;' src='data:image/svg+xml;base64,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' > </img>\nCreated in <span style='font-weight:600;margin-left:4px;'>Deepnote</span></a>",
   "metadata": {
    "tags": [],
    "created_in_deepnote_cell": true,
    "deepnote_cell_type": "markdown"
   }
  }
 ],
 "nbformat": 4,
 "nbformat_minor": 0,
 "metadata": {
  "colab": {
   "name": "operation research",
   "provenance": [],
   "collapsed_sections": [],
   "toc_visible": true
  },
  "kernelspec": {
   "name": "python3",
   "display_name": "Python 3"
  },
  "language_info": {
   "name": "python"
  },
  "deepnote_notebook_id": "29738b96-83de-4149-8383-f08204ed6147",
  "deepnote": {},
  "deepnote_execution_queue": []
 }
}