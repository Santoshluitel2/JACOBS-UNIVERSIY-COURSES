{
 "cells": [
  {
   "cell_type": "code",
   "metadata": {
    "colab": {
     "base_uri": "https://localhost:8080/"
    },
    "id": "XrC6cTHpJKUP",
    "outputId": "f82f1230-522d-43e2-b366-1f812a5f4da5",
    "deepnote_to_be_reexecuted": false,
    "source_hash": "60e54843",
    "execution_start": 1633973656947,
    "execution_millis": 0,
    "allow_embed": "code_output",
    "cell_id": "00000-9a715a47-3680-4b83-b4f4-ca9b07e2e289",
    "deepnote_cell_type": "code"
   },
   "source": "#googlecollab \n# !apt-get install -y -qq glpk-utils\n#!pip install pyomo\n\n#for ubuntu\n#!pip install pyomo\n#!sudo apt-get update -y \n#!sudo apt-get install -y glpk-utils",
   "outputs": [],
   "execution_count": 1
  },
  {
   "cell_type": "code",
   "metadata": {
    "id": "UqZWqqZOJ8Vs",
    "deepnote_to_be_reexecuted": false,
    "source_hash": "d8ce88af",
    "execution_start": 1633974914431,
    "execution_millis": 0,
    "cell_id": "00001-beb6d1d9-939e-4dab-95bd-fc94b39510e9",
    "deepnote_cell_type": "code"
   },
   "source": "#importing library\nfrom pyomo.environ import *\nfrom pyomo.opt import *\n\nsolver= SolverFactory('glpk')\nmodel = ConcreteModel()\nmodel.dual=Suffix(direction=Suffix.IMPORT)\n",
   "outputs": [],
   "execution_count": 60
  },
  {
   "cell_type": "markdown",
   "source": "# (a) Write a Pyomo program to solve this LP problem",
   "metadata": {
    "tags": [],
    "is_collapsed": false,
    "cell_id": "00002-a28fd0a4-c871-42a3-b7c0-95b50ac8cc30",
    "deepnote_cell_type": "text-cell-h1"
   }
  },
  {
   "cell_type": "code",
   "metadata": {
    "id": "YiK7fxVMDYpA",
    "deepnote_to_be_reexecuted": false,
    "source_hash": "28617d70",
    "execution_start": 1633979135498,
    "execution_millis": 11,
    "cell_id": "00003-1ba1a58a-ddf8-47a9-aafd-18fa307e3d54",
    "deepnote_cell_type": "code"
   },
   "source": "#creating non negative variables x and y\nmodel.x=Var(domain=NonNegativeReals)\nmodel.y=Var(domain=NonNegativeReals)",
   "outputs": [
    {
     "name": "stdout",
     "text": "WARNING: Implicitly replacing the Component attribute x (type=<class\n    'pyomo.core.base.var.ScalarVar'>) on block unknown with a new Component\n    (type=<class 'pyomo.core.base.var.ScalarVar'>). This is usually indicative\n    of a modelling error. To avoid this warning, use block.del_component() and\n    block.add_component().\nWARNING: Implicitly replacing the Component attribute y (type=<class\n    'pyomo.core.base.var.ScalarVar'>) on block unknown with a new Component\n    (type=<class 'pyomo.core.base.var.ScalarVar'>). This is usually indicative\n    of a modelling error. To avoid this warning, use block.del_component() and\n    block.add_component().\n",
     "output_type": "stream"
    }
   ],
   "execution_count": 66
  },
  {
   "cell_type": "code",
   "metadata": {
    "id": "zmBwj_eNX6Qr",
    "deepnote_to_be_reexecuted": false,
    "source_hash": "ce3e47c7",
    "execution_start": 1633979135508,
    "execution_millis": 15,
    "cell_id": "00004-9d42d97f-11ce-406a-b9aa-57497db8c1f0",
    "deepnote_cell_type": "code"
   },
   "source": "#creating objective and constrains\nmodel.z=Objective(expr=300*model.x +200*model.y,sense=maximize)\nmodel.c1=Constraint(expr=(6*model.x + 4*model.y)<=40)\nmodel.c2=Constraint(expr=(8*model.x + 4*model.y)<=40)\nmodel.c3=Constraint(expr=(3*model.x +3*model.y)<=20)\n",
   "outputs": [
    {
     "name": "stdout",
     "text": "WARNING: Implicitly replacing the Component attribute z (type=<class\n    'pyomo.core.base.objective.ScalarObjective'>) on block unknown with a new\n    Component (type=<class 'pyomo.core.base.objective.ScalarObjective'>). This\n    is usually indicative of a modelling error. To avoid this warning, use\n    block.del_component() and block.add_component().\nWARNING: Implicitly replacing the Component attribute c1 (type=<class\n    'pyomo.core.base.constraint.ScalarConstraint'>) on block unknown with a\n    new Component (type=<class\n    'pyomo.core.base.constraint.AbstractScalarConstraint'>). This is usually\n    indicative of a modelling error. To avoid this warning, use\n    block.del_component() and block.add_component().\nWARNING: Implicitly replacing the Component attribute c2 (type=<class\n    'pyomo.core.base.constraint.ScalarConstraint'>) on block unknown with a\n    new Component (type=<class\n    'pyomo.core.base.constraint.AbstractScalarConstraint'>). This is usually\n    indicative of a modelling error. To avoid this warning, use\n    block.del_component() and block.add_component().\nWARNING: Implicitly replacing the Component attribute c3 (type=<class\n    'pyomo.core.base.constraint.ScalarConstraint'>) on block unknown with a\n    new Component (type=<class\n    'pyomo.core.base.constraint.AbstractScalarConstraint'>). This is usually\n    indicative of a modelling error. To avoid this warning, use\n    block.del_component() and block.add_component().\n",
     "output_type": "stream"
    }
   ],
   "execution_count": 67
  },
  {
   "cell_type": "code",
   "metadata": {
    "id": "ctNUX8bGW7Am",
    "colab": {
     "base_uri": "https://localhost:8080/"
    },
    "outputId": "dc889250-4f83-4928-ed47-5c6e2f353076",
    "deepnote_to_be_reexecuted": false,
    "source_hash": "b60018eb",
    "execution_start": 1633979135521,
    "execution_millis": 16,
    "cell_id": "00005-016fe40b-40b1-4f23-a277-042b06670f32",
    "deepnote_cell_type": "code"
   },
   "source": "#solving\nresult= solver.solve(model)\n",
   "outputs": [],
   "execution_count": 68
  },
  {
   "cell_type": "code",
   "metadata": {
    "colab": {
     "base_uri": "https://localhost:8080/"
    },
    "id": "rgBi-DdWDfud",
    "outputId": "a8c5de59-7a3c-4cc6-96bf-86fc9e00da28",
    "deepnote_to_be_reexecuted": false,
    "source_hash": "87877fe",
    "execution_start": 1633979135544,
    "execution_millis": 7,
    "cell_id": "00006-feda8a10-d432-4fbb-8c8f-dd0f1bfe030b",
    "deepnote_cell_type": "code"
   },
   "source": "#final result\nprint(\"the value of x is \" +  str(value(model.x)))\nprint(\"the value of y is \" + str(value(model.y)))\nprint(\"the maximum value is \" + str(value(model.z)))\n",
   "outputs": [
    {
     "name": "stdout",
     "text": "the value of x is 3.33333333333333\nthe value of y is 3.33333333333333\nthe maximum value is 1666.666666666665\n",
     "output_type": "stream"
    }
   ],
   "execution_count": 69
  },
  {
   "cell_type": "code",
   "metadata": {
    "tags": [],
    "deepnote_to_be_reexecuted": false,
    "source_hash": "a4c5f05",
    "execution_start": 1633979177185,
    "execution_millis": 24,
    "cell_id": "00007-639289a9-6c7f-414b-9d02-dc66a2c67a7c",
    "deepnote_cell_type": "code"
   },
   "source": "model.dual[(model.c1)],model.dual[(model.c2)],model.dual[(model.c3)]\n#these can be the solution for part b as well\n#three answer are for three part respectively",
   "outputs": [
    {
     "output_type": "execute_result",
     "execution_count": 71,
     "data": {
      "text/plain": "(0.0, 25.0, 33.3333333333333)"
     },
     "metadata": {}
    }
   ],
   "execution_count": 71
  },
  {
   "cell_type": "markdown",
   "source": "",
   "metadata": {
    "tags": [],
    "is_collapsed": false,
    "cell_id": "00014-69bf66b9-609f-4a21-86ca-9d946d26c908",
    "deepnote_cell_type": "text-cell-p"
   }
  },
  {
   "cell_type": "markdown",
   "source": "",
   "metadata": {
    "tags": [],
    "is_collapsed": false,
    "cell_id": "00015-05a65b8a-32d0-4a53-a2c5-1558ea2a34e6",
    "deepnote_cell_type": "text-cell-p"
   }
  },
  {
   "cell_type": "markdown",
   "source": "<a style='text-decoration:none;line-height:16px;display:flex;color:#5B5B62;padding:10px;justify-content:end;' href='https://deepnote.com?utm_source=created-in-deepnote-cell&projectId=61d9f83c-8db3-4de6-9c54-440927b39eca' target=\"_blank\">\n<img alt='Created in deepnote.com' style='display:inline;max-height:16px;margin:0px;margin-right:7.5px;' src='data:image/svg+xml;base64,PD94bWwgdmVyc2lvbj0iMS4wIiBlbmNvZGluZz0iVVRGLTgiPz4KPHN2ZyB3aWR0aD0iODBweCIgaGVpZ2h0PSI4MHB4IiB2aWV3Qm94PSIwIDAgODAgODAiIHZlcnNpb249IjEuMSIgeG1sbnM9Imh0dHA6Ly93d3cudzMub3JnLzIwMDAvc3ZnIiB4bWxuczp4bGluaz0iaHR0cDovL3d3dy53My5vcmcvMTk5OS94bGluayI+CiAgICA8IS0tIEdlbmVyYXRvcjogU2tldGNoIDU0LjEgKDc2NDkwKSAtIGh0dHBzOi8vc2tldGNoYXBwLmNvbSAtLT4KICAgIDx0aXRsZT5Hcm91cCAzPC90aXRsZT4KICAgIDxkZXNjPkNyZWF0ZWQgd2l0aCBTa2V0Y2guPC9kZXNjPgogICAgPGcgaWQ9IkxhbmRpbmciIHN0cm9rZT0ibm9uZSIgc3Ryb2tlLXdpZHRoPSIxIiBmaWxsPSJub25lIiBmaWxsLXJ1bGU9ImV2ZW5vZGQiPgogICAgICAgIDxnIGlkPSJBcnRib2FyZCIgdHJhbnNmb3JtPSJ0cmFuc2xhdGUoLTEyMzUuMDAwMDAwLCAtNzkuMDAwMDAwKSI+CiAgICAgICAgICAgIDxnIGlkPSJHcm91cC0zIiB0cmFuc2Zvcm09InRyYW5zbGF0ZSgxMjM1LjAwMDAwMCwgNzkuMDAwMDAwKSI+CiAgICAgICAgICAgICAgICA8cG9seWdvbiBpZD0iUGF0aC0yMCIgZmlsbD0iIzAyNjVCNCIgcG9pbnRzPSIyLjM3NjIzNzYyIDgwIDM4LjA0NzY2NjcgODAgNTcuODIxNzgyMiA3My44MDU3NTkyIDU3LjgyMTc4MjIgMzIuNzU5MjczOSAzOS4xNDAyMjc4IDMxLjY4MzE2ODMiPjwvcG9seWdvbj4KICAgICAgICAgICAgICAgIDxwYXRoIGQ9Ik0zNS4wMDc3MTgsODAgQzQyLjkwNjIwMDcsNzYuNDU0OTM1OCA0Ny41NjQ5MTY3LDcxLjU0MjI2NzEgNDguOTgzODY2LDY1LjI2MTk5MzkgQzUxLjExMjI4OTksNTUuODQxNTg0MiA0MS42NzcxNzk1LDQ5LjIxMjIyODQgMjUuNjIzOTg0Niw0OS4yMTIyMjg0IEMyNS40ODQ5Mjg5LDQ5LjEyNjg0NDggMjkuODI2MTI5Niw0My4yODM4MjQ4IDM4LjY0NzU4NjksMzEuNjgzMTY4MyBMNzIuODcxMjg3MSwzMi41NTQ0MjUgTDY1LjI4MDk3Myw2Ny42NzYzNDIxIEw1MS4xMTIyODk5LDc3LjM3NjE0NCBMMzUuMDA3NzE4LDgwIFoiIGlkPSJQYXRoLTIyIiBmaWxsPSIjMDAyODY4Ij48L3BhdGg+CiAgICAgICAgICAgICAgICA8cGF0aCBkPSJNMCwzNy43MzA0NDA1IEwyNy4xMTQ1MzcsMC4yNTcxMTE0MzYgQzYyLjM3MTUxMjMsLTEuOTkwNzE3MDEgODAsMTAuNTAwMzkyNyA4MCwzNy43MzA0NDA1IEM4MCw2NC45NjA0ODgyIDY0Ljc3NjUwMzgsNzkuMDUwMzQxNCAzNC4zMjk1MTEzLDgwIEM0Ny4wNTUzNDg5LDc3LjU2NzA4MDggNTMuNDE4MjY3Nyw3MC4zMTM2MTAzIDUzLjQxODI2NzcsNTguMjM5NTg4NSBDNTMuNDE4MjY3Nyw0MC4xMjg1NTU3IDM2LjMwMzk1NDQsMzcuNzMwNDQwNSAyNS4yMjc0MTcsMzcuNzMwNDQwNSBDMTcuODQzMDU4NiwzNy43MzA0NDA1IDkuNDMzOTE5NjYsMzcuNzMwNDQwNSAwLDM3LjczMDQ0MDUgWiIgaWQ9IlBhdGgtMTkiIGZpbGw9IiMzNzkzRUYiPjwvcGF0aD4KICAgICAgICAgICAgPC9nPgogICAgICAgIDwvZz4KICAgIDwvZz4KPC9zdmc+' > </img>\nCreated in <span style='font-weight:600;margin-left:4px;'>Deepnote</span></a>",
   "metadata": {
    "tags": [],
    "created_in_deepnote_cell": true,
    "deepnote_cell_type": "markdown"
   }
  }
 ],
 "nbformat": 4,
 "nbformat_minor": 0,
 "metadata": {
  "colab": {
   "name": "operation research",
   "provenance": [],
   "collapsed_sections": [],
   "toc_visible": true
  },
  "kernelspec": {
   "name": "python3",
   "display_name": "Python 3"
  },
  "language_info": {
   "name": "python"
  },
  "deepnote_notebook_id": "791e46eb-a09d-4d99-979c-6386e027c871",
  "deepnote": {},
  "deepnote_execution_queue": []
 }
}