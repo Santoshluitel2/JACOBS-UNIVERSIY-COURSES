{
 "cells": [
  {
   "cell_type": "code",
   "metadata": {
    "colab": {
     "base_uri": "https://localhost:8080/"
    },
    "id": "XrC6cTHpJKUP",
    "outputId": "f82f1230-522d-43e2-b366-1f812a5f4da5",
    "deepnote_to_be_reexecuted": false,
    "source_hash": "737d0e9e",
    "execution_start": 1634576201497,
    "execution_millis": 14392,
    "allow_embed": false,
    "cell_id": "00000-049faa8f-4f42-4e4d-bb7a-7786547f076b",
    "deepnote_cell_type": "code"
   },
   "source": "#googlecollab \n# !apt-get install -y -qq glpk-utils\n#!pip install pyomo\n\n#for ubuntu\n!pip install pyomo\n!sudo apt-get update -y \n!sudo apt-get install -y glpk-utils",
   "outputs": [
    {
     "name": "stdout",
     "text": "Collecting pyomo\n  Downloading Pyomo-6.1.2-cp37-cp37m-manylinux_2_5_x86_64.manylinux1_x86_64.manylinux_2_12_x86_64.manylinux2010_x86_64.whl (9.1 MB)\n\u001b[K     |████████████████████████████████| 9.1 MB 32.6 MB/s \n\u001b[?25hCollecting ply\n  Downloading ply-3.11-py2.py3-none-any.whl (49 kB)\n\u001b[K     |████████████████████████████████| 49 kB 11.3 MB/s \n\u001b[?25hInstalling collected packages: ply, pyomo\nSuccessfully installed ply-3.11 pyomo-6.1.2\n\u001b[33mWARNING: You are using pip version 21.2.4; however, version 21.3 is available.\nYou should consider upgrading via the '/root/venv/bin/python -m pip install --upgrade pip' command.\u001b[0m\nGet:1 http://deb.debian.org/debian buster InRelease [122 kB]\nGet:2 http://deb.debian.org/debian buster-updates InRelease [51.9 kB]\nGet:3 http://security.debian.org/debian-security buster/updates InRelease [65.4 kB]\nGet:4 http://deb.debian.org/debian buster/main amd64 Packages [7,906 kB]\nGet:5 http://deb.debian.org/debian buster-updates/main amd64 Packages [15.2 kB]\nGet:6 http://security.debian.org/debian-security buster/updates/main amd64 Packages [307 kB]\nFetched 8,467 kB in 2s (4,559 kB/s)\n\n\n\n\nThe following additional packages will be installed:\n  libamd2 libcolamd2 libglpk40 libsuitesparseconfig5\nSuggested packages:\n  libiodbc2-dev default-libmysqlclient-dev\nThe following NEW packages will be installed:\n  glpk-utils libamd2 libcolamd2 libglpk40 libsuitesparseconfig5\n0 upgraded, 5 newly installed, 0 to remove and 0 not upgraded.\nNeed to get 813 kB of archives.\nAfter this operation, 1,769 kB of additional disk space will be used.\nGet:1 http://deb.debian.org/debian buster/main amd64 libsuitesparseconfig5 amd64 1:5.4.0+dfsg-1 [20.9 kB]\nGet:2 http://deb.debian.org/debian buster/main amd64 libamd2 amd64 1:5.4.0+dfsg-1 [33.4 kB]\nGet:3 http://deb.debian.org/debian buster/main amd64 libcolamd2 amd64 1:5.4.0+dfsg-1 [30.3 kB]\nGet:4 http://deb.debian.org/debian buster/main amd64 libglpk40 amd64 4.65-2 [418 kB]\nGet:5 http://deb.debian.org/debian buster/main amd64 glpk-utils amd64 4.65-2 [310 kB]\nFetched 813 kB in 0s (37.1 MB/s)\ndebconf: delaying package configuration, since apt-utils is not installed\nSelecting previously unselected package libsuitesparseconfig5:amd64.\n(Reading database ... 31086 files and directories currently installed.)\nPreparing to unpack .../libsuitesparseconfig5_1%3a5.4.0+dfsg-1_amd64.deb ...\nUnpacking libsuitesparseconfig5:amd64 (1:5.4.0+dfsg-1) ...\nSelecting previously unselected package libamd2:amd64.\nPreparing to unpack .../libamd2_1%3a5.4.0+dfsg-1_amd64.deb ...\nUnpacking libamd2:amd64 (1:5.4.0+dfsg-1) ...\nSelecting previously unselected package libcolamd2:amd64.\nPreparing to unpack .../libcolamd2_1%3a5.4.0+dfsg-1_amd64.deb ...\nUnpacking libcolamd2:amd64 (1:5.4.0+dfsg-1) ...\nSelecting previously unselected package libglpk40:amd64.\nPreparing to unpack .../libglpk40_4.65-2_amd64.deb ...\nUnpacking libglpk40:amd64 (4.65-2) ...\nSelecting previously unselected package glpk-utils.\nPreparing to unpack .../glpk-utils_4.65-2_amd64.deb ...\nUnpacking glpk-utils (4.65-2) ...\nSetting up libsuitesparseconfig5:amd64 (1:5.4.0+dfsg-1) ...\nSetting up libamd2:amd64 (1:5.4.0+dfsg-1) ...\nSetting up libcolamd2:amd64 (1:5.4.0+dfsg-1) ...\nSetting up libglpk40:amd64 (4.65-2) ...\nSetting up glpk-utils (4.65-2) ...\nProcessing triggers for libc-bin (2.28-10) ...\n",
     "output_type": "stream"
    }
   ],
   "execution_count": null
  },
  {
   "cell_type": "markdown",
   "source": "# HOMEWORK 6 PROBLEM 1",
   "metadata": {
    "tags": [],
    "is_collapsed": false,
    "cell_id": "00001-00c41dbe-584f-4ea7-b8d6-752c8e373ab8",
    "deepnote_cell_type": "text-cell-h1"
   }
  },
  {
   "cell_type": "markdown",
   "source": "",
   "metadata": {
    "tags": [],
    "is_collapsed": false,
    "deepnote_cell_type": "text-cell-p"
   }
  },
  {
   "cell_type": "code",
   "metadata": {
    "id": "UqZWqqZOJ8Vs",
    "deepnote_to_be_reexecuted": false,
    "source_hash": "b22caef3",
    "execution_start": 1634576215893,
    "execution_millis": 208,
    "cell_id": "00002-878d55ed-9283-4151-988f-6df4627c7778",
    "deepnote_cell_type": "code"
   },
   "source": "#importing library\nfrom pyomo.environ import *\nfrom pyomo.opt import *\n\nsolver= SolverFactory('glpk')\nmodel = ConcreteModel()\n\n",
   "outputs": [],
   "execution_count": null
  },
  {
   "cell_type": "code",
   "metadata": {
    "id": "YiK7fxVMDYpA",
    "deepnote_to_be_reexecuted": false,
    "source_hash": "334b7b32",
    "execution_start": 1634576235581,
    "execution_millis": 118,
    "cell_id": "00003-3235e556-3b5a-4ce4-aecc-4d5dfb7cbc2e",
    "deepnote_cell_type": "code"
   },
   "source": "#creating non negative variables x \nmodel.x=Var([11,12,13,14,15,21,22,23,24,25,31,32,33,34,35], within=NonNegativeReals)\n#creating objective and constrains\nmodel.z=Objective(expr=(41*model.x[11] +39*model.x[12]+ 42*model.x[13] + 38*model.x[14] + 39*model.x[15]+ 55*model.x[21]+\n51*model.x[22] +56*model.x[23] +52*model.x[24] +53*model.x[25]+48*model.x[31] +\n45*model.x[32] +50*model.x[33] ))\nmodel.c1=Constraint(expr=(model.x[11] + model.x[21] +model.x[31])<=400)\nmodel.c2=Constraint(expr=(model.x[12] + model.x[22] +model.x[32])<=600)\nmodel.c3=Constraint(expr=(model.x[13] + model.x[23] +model.x[33])<=400)\nmodel.c4=Constraint(expr=(model.x[14] + model.x[24])<=600)\nmodel.c5=Constraint(expr=(model.x[15]+ model.x[25])<=1000)\nmodel.c6=Constraint(expr=(model.x[11] + model.x[12] +model.x[13]+model.x[14] + model.x[15])>=700)\nmodel.c7=Constraint(expr=(model.x[21] + model.x[22] +model.x[23]+model.x[24] ++model.x[25])>=1000)\nmodel.c8=Constraint(expr=(model.x[31] + model.x[32] +model.x[33])>=900)\nresult= solver.solve(model)\nmodel.x.get_values()\n\n",
   "outputs": [
    {
     "output_type": "execute_result",
     "execution_count": 4,
     "data": {
      "text/plain": "{11: 0.0,\n 12: 0.0,\n 13: 0.0,\n 14: 600.0,\n 15: 100.0,\n 21: 0.0,\n 22: 100.0,\n 23: 0.0,\n 24: 0.0,\n 25: 900.0,\n 31: 400.0,\n 32: 500.0,\n 33: 0.0,\n 34: None,\n 35: None}"
     },
     "metadata": {}
    }
   ],
   "execution_count": null
  },
  {
   "cell_type": "code",
   "metadata": {
    "colab": {
     "base_uri": "https://localhost:8080/"
    },
    "id": "rgBi-DdWDfud",
    "outputId": "a8c5de59-7a3c-4cc6-96bf-86fc9e00da28",
    "deepnote_to_be_reexecuted": false,
    "source_hash": "23726820",
    "execution_start": 1634576381207,
    "execution_millis": 0,
    "cell_id": "00004-ca2b2190-6eac-4c6e-8b33-7d1661c7578a",
    "deepnote_cell_type": "code"
   },
   "source": "model.z.expr()",
   "outputs": [
    {
     "output_type": "execute_result",
     "execution_count": 5,
     "data": {
      "text/plain": "121200.0"
     },
     "metadata": {}
    }
   ],
   "execution_count": null
  },
  {
   "cell_type": "markdown",
   "source": "<a style='text-decoration:none;line-height:16px;display:flex;color:#5B5B62;padding:10px;justify-content:end;' href='https://deepnote.com?utm_source=created-in-deepnote-cell&projectId=61d9f83c-8db3-4de6-9c54-440927b39eca' target=\"_blank\">\n<img alt='Created in deepnote.com' style='display:inline;max-height:16px;margin:0px;margin-right:7.5px;' src='data:image/svg+xml;base64,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' > </img>\nCreated in <span style='font-weight:600;margin-left:4px;'>Deepnote</span></a>",
   "metadata": {
    "tags": [],
    "created_in_deepnote_cell": true,
    "deepnote_cell_type": "markdown"
   }
  }
 ],
 "nbformat": 4,
 "nbformat_minor": 0,
 "metadata": {
  "colab": {
   "name": "operation research",
   "provenance": [],
   "collapsed_sections": [],
   "toc_visible": true
  },
  "kernelspec": {
   "name": "python3",
   "display_name": "Python 3"
  },
  "language_info": {
   "name": "python"
  },
  "deepnote_notebook_id": "3cc8d77f-a17e-419c-8583-94f14d7b777b",
  "deepnote": {},
  "deepnote_execution_queue": []
 }
}