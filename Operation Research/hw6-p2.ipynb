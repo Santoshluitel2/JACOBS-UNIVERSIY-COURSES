{
 "cells": [
  {
   "cell_type": "code",
   "metadata": {
    "colab": {
     "base_uri": "https://localhost:8080/"
    },
    "id": "XrC6cTHpJKUP",
    "outputId": "f82f1230-522d-43e2-b366-1f812a5f4da5",
    "deepnote_to_be_reexecuted": false,
    "source_hash": "737d0e9e",
    "execution_start": 1634490795547,
    "execution_millis": 6450,
    "allow_embed": false,
    "cell_id": "00000-89074d04-c63a-4710-a63c-0d92f9b6a7bd",
    "deepnote_cell_type": "code"
   },
   "source": "#googlecollab \n# !apt-get install -y -qq glpk-utils\n#!pip install pyomo\n\n#for ubuntu\n!pip install pyomo\n!sudo apt-get update -y \n!sudo apt-get install -y glpk-utils",
   "execution_count": null,
   "outputs": [
    {
     "name": "stdout",
     "text": "Requirement already satisfied: pyomo in /root/venv/lib/python3.7/site-packages (6.1.2)\nRequirement already satisfied: ply in /root/venv/lib/python3.7/site-packages (from pyomo) (3.11)\n\u001b[33mWARNING: You are using pip version 21.2.4; however, version 21.3 is available.\nYou should consider upgrading via the '/root/venv/bin/python -m pip install --upgrade pip' command.\u001b[0m\nHit:1 http://deb.debian.org/debian buster InRelease\nHit:2 http://deb.debian.org/debian buster-updates InRelease\nHit:3 http://security.debian.org/debian-security buster/updates InRelease\n\n\n\n\nglpk-utils is already the newest version (4.65-2).\n0 upgraded, 0 newly installed, 0 to remove and 0 not upgraded.\n",
     "output_type": "stream"
    }
   ]
  },
  {
   "cell_type": "markdown",
   "source": "# HOMEWORK 6 PROBLEM 2",
   "metadata": {
    "tags": [],
    "is_collapsed": false,
    "cell_id": "00001-24780c4d-9c71-4d5f-9ecb-8c8176afa59c",
    "deepnote_cell_type": "text-cell-h1"
   }
  },
  {
   "cell_type": "code",
   "metadata": {
    "id": "UqZWqqZOJ8Vs",
    "deepnote_to_be_reexecuted": false,
    "source_hash": "b22caef3",
    "execution_start": 1634490801941,
    "execution_millis": 153,
    "cell_id": "00001-5641ee0a-c2e9-4448-847c-b2d18351120d",
    "deepnote_cell_type": "code"
   },
   "source": "#importing library\nfrom pyomo.environ import *\nfrom pyomo.opt import *\n\nsolver= SolverFactory('glpk')\nmodel = ConcreteModel()\n\n",
   "execution_count": null,
   "outputs": []
  },
  {
   "cell_type": "code",
   "metadata": {
    "id": "YiK7fxVMDYpA",
    "deepnote_to_be_reexecuted": false,
    "source_hash": "bdb04985",
    "execution_start": 1634490802106,
    "execution_millis": 28,
    "cell_id": "00002-34160084-3e0a-4648-b034-11454cdbb370",
    "deepnote_cell_type": "code"
   },
   "source": "#creating non negative variables x \nmodel.x=Var([11,12,13,14,21,22,23,24,31,32,33,34,41,42,43,44], within=NonNegativeReals)\n#creating objective and constrains\nmodel.z=Objective(expr=(500*model.x[11] +400*model.x[12]+ 600*model.x[13] + 700*model.x[14] + 600*model.x[21]+ 600*model.x[22]+\n700*model.x[23] +500*model.x[24]+700*model.x[31] +500*model.x[32] +700*model.x[33]+600*model.x[34] +\n500*model.x[41] +400*model.x[42] +600*model.x[43]+600*model.x[44]))\nmodel.c1=Constraint(expr=(model.x[11] + model.x[21] +model.x[31]+model.x[41])==1)\nmodel.c2=Constraint(expr=(model.x[12] + model.x[22] +model.x[32]+model.x[42])==1)\nmodel.c3=Constraint(expr=(model.x[13] + model.x[23] +model.x[33]+model.x[43])==1)\nmodel.c4=Constraint(expr=(model.x[14] + model.x[24] +model.x[34]+model.x[44])==1)\nmodel.c5=Constraint(expr=(model.x[11] + model.x[12] +model.x[13]+model.x[14])==1)\nmodel.c6=Constraint(expr=(model.x[21] + model.x[22] +model.x[23]+model.x[24])==1)\nmodel.c7=Constraint(expr=(model.x[31] + model.x[32] +model.x[33]+model.x[34])==1)\nmodel.c8=Constraint(expr=(model.x[41] + model.x[42] +model.x[43]+model.x[44])==1)\nresult= solver.solve(model)\nmodel.x.get_values()\n\n",
   "execution_count": null,
   "outputs": [
    {
     "output_type": "execute_result",
     "execution_count": 3,
     "data": {
      "text/plain": "{11: 1.0,\n 12: 0.0,\n 13: 0.0,\n 14: 0.0,\n 21: 0.0,\n 22: 0.0,\n 23: 0.0,\n 24: 1.0,\n 31: 0.0,\n 32: 0.0,\n 33: 1.0,\n 34: 0.0,\n 41: 0.0,\n 42: 1.0,\n 43: 0.0,\n 44: 0.0}"
     },
     "metadata": {}
    }
   ]
  },
  {
   "cell_type": "code",
   "metadata": {
    "colab": {
     "base_uri": "https://localhost:8080/"
    },
    "id": "rgBi-DdWDfud",
    "outputId": "a8c5de59-7a3c-4cc6-96bf-86fc9e00da28",
    "deepnote_to_be_reexecuted": false,
    "source_hash": "23726820",
    "execution_start": 1634490802138,
    "execution_millis": 5,
    "cell_id": "00005-2b201364-2bc1-4176-a7a8-362983ce1b20",
    "deepnote_cell_type": "code"
   },
   "source": "model.z.expr()",
   "execution_count": null,
   "outputs": [
    {
     "output_type": "execute_result",
     "execution_count": 4,
     "data": {
      "text/plain": "2100.0"
     },
     "metadata": {}
    }
   ]
  },
  {
   "cell_type": "markdown",
   "source": "# this part is for nonnegativeintegers. It is found that it will still be same because optimal condition or minumun cost can not be further minimized when fractional divison is also possible.",
   "metadata": {
    "tags": [],
    "is_collapsed": false,
    "cell_id": "00004-993c0e1a-0421-4a75-b920-e8cb54f9f64c",
    "deepnote_cell_type": "text-cell-h1"
   }
  },
  {
   "cell_type": "code",
   "metadata": {
    "tags": [],
    "cell_id": "00005-e980cbfc-797a-4af0-9651-64c71aa255a6",
    "deepnote_to_be_reexecuted": false,
    "source_hash": "c00eb829",
    "execution_start": 1634490894739,
    "execution_millis": 1,
    "deepnote_cell_type": "code"
   },
   "source": "model1=ConcreteModel()\nmodel1.y=Var([11,12,13,14,21,22,23,24,31,32,33,34,41,42,43,44], within=NonNegativeReals)\n#creating objective and constrains\nmodel1.p =Objective(expr=(500*model1.y[11] +400*model1.y[12]+ 600*model1.y[13] + 700*model1.y[14] + 600*model1.y[21]+ 600*model1.y[22]+\n700*model1.y[23] +500*model1.y[24]+700*model1.y[31] +500*model1.y[32] +700*model1.y[33]+600*model1.y[34] +\n500*model1.y[41] +400*model1.y[42] +600*model1.y[43]+600*model1.y[44]))\nmodel1.co1=Constraint(expr=(model1.y[11] + model1.y[21] +model1.y[31]+model1.y[41])==1)\nmodel1.co2=Constraint(expr=(model1.y[12] + model1.y[22] +model1.y[32]+model1.y[42])==1)\nmodel1.co3=Constraint(expr=(model1.y[13] + model1.y[23] +model1.y[33]+model1.y[43])==1)\nmodel1.co4=Constraint(expr=(model1.y[14] + model1.y[24] +model1.y[34]+model1.y[44])==1)\nmodel1.co5=Constraint(expr=(model1.y[11] + model1.y[12] +model1.y[13]+model1.y[14])==1)\nmodel1.co6=Constraint(expr=(model1.y[21] + model1.y[22] +model1.y[23]+model1.y[24])==1)\nmodel1.co7=Constraint(expr=(model1.y[31] + model1.y[32] +model1.y[33]+model1.y[34])==1)\nmodel1.co8=Constraint(expr=(model1.y[41] + model1.y[42] +model1.y[43]+model1.y[44])==1)\nresult= solver.solve(model1)\nmodel1.y.get_values()\n",
   "execution_count": null,
   "outputs": [
    {
     "output_type": "execute_result",
     "execution_count": 7,
     "data": {
      "text/plain": "{11: 1.0,\n 12: 0.0,\n 13: 0.0,\n 14: 0.0,\n 21: 0.0,\n 22: 0.0,\n 23: 0.0,\n 24: 1.0,\n 31: 0.0,\n 32: 0.0,\n 33: 1.0,\n 34: 0.0,\n 41: 0.0,\n 42: 1.0,\n 43: 0.0,\n 44: 0.0}"
     },
     "metadata": {}
    }
   ]
  },
  {
   "cell_type": "code",
   "metadata": {
    "tags": [],
    "cell_id": "00006-a744f906-c44f-469c-a22e-f7a290684367",
    "deepnote_to_be_reexecuted": false,
    "source_hash": "abf6f70c",
    "execution_start": 1634490906992,
    "execution_millis": 2,
    "deepnote_cell_type": "code"
   },
   "source": "#same value\nmodel1.p.expr()",
   "execution_count": null,
   "outputs": [
    {
     "output_type": "execute_result",
     "execution_count": 8,
     "data": {
      "text/plain": "2100.0"
     },
     "metadata": {}
    }
   ]
  },
  {
   "cell_type": "markdown",
   "source": "<a style='text-decoration:none;line-height:16px;display:flex;color:#5B5B62;padding:10px;justify-content:end;' href='https://deepnote.com?utm_source=created-in-deepnote-cell&projectId=61d9f83c-8db3-4de6-9c54-440927b39eca' target=\"_blank\">\n<img alt='Created in deepnote.com' style='display:inline;max-height:16px;margin:0px;margin-right:7.5px;' src='data:image/svg+xml;base64,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' > </img>\nCreated in <span style='font-weight:600;margin-left:4px;'>Deepnote</span></a>",
   "metadata": {
    "tags": [],
    "created_in_deepnote_cell": true,
    "deepnote_cell_type": "markdown"
   }
  }
 ],
 "nbformat": 4,
 "nbformat_minor": 0,
 "metadata": {
  "colab": {
   "name": "operation research",
   "provenance": [],
   "collapsed_sections": [],
   "toc_visible": true
  },
  "kernelspec": {
   "name": "python3",
   "display_name": "Python 3"
  },
  "language_info": {
   "name": "python"
  },
  "deepnote_notebook_id": "83d6d29e-088d-4fcf-ba09-c898390fa21f",
  "deepnote": {},
  "deepnote_execution_queue": []
 }
}