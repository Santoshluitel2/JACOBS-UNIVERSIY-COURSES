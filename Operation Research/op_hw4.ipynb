{
 "cells": [
  {
   "cell_type": "code",
   "metadata": {
    "colab": {
     "base_uri": "https://localhost:8080/"
    },
    "id": "XrC6cTHpJKUP",
    "outputId": "f82f1230-522d-43e2-b366-1f812a5f4da5",
    "deepnote_to_be_reexecuted": false,
    "source_hash": "737d0e9e",
    "execution_start": 1633981225470,
    "execution_millis": 12484,
    "allow_embed": "code_output",
    "cell_id": "00000-e8401d7e-79c3-49cc-ac8e-728e109d780d",
    "deepnote_cell_type": "code"
   },
   "source": "#googlecollab \n# !apt-get install -y -qq glpk-utils\n#!pip install pyomo\n\n#for ubuntu\n!pip install pyomo\n!sudo apt-get update -y \n!sudo apt-get install -y glpk-utils",
   "execution_count": null,
   "outputs": [
    {
     "name": "stdout",
     "text": "Collecting pyomo\n  Downloading Pyomo-6.1.2-cp37-cp37m-manylinux_2_5_x86_64.manylinux1_x86_64.manylinux_2_12_x86_64.manylinux2010_x86_64.whl (9.1 MB)\n\u001b[K     |████████████████████████████████| 9.1 MB 20.9 MB/s \n\u001b[?25hCollecting ply\n  Downloading ply-3.11-py2.py3-none-any.whl (49 kB)\n\u001b[K     |████████████████████████████████| 49 kB 11.2 MB/s \n\u001b[?25hInstalling collected packages: ply, pyomo\nSuccessfully installed ply-3.11 pyomo-6.1.2\nGet:1 http://deb.debian.org/debian buster InRelease [122 kB]\nGet:2 http://deb.debian.org/debian buster-updates InRelease [51.9 kB]\nGet:3 http://security.debian.org/debian-security buster/updates InRelease [65.4 kB]\nGet:4 http://deb.debian.org/debian buster/main amd64 Packages [7,906 kB]\nGet:5 http://deb.debian.org/debian buster-updates/main amd64 Packages [15.2 kB]\nGet:6 http://security.debian.org/debian-security buster/updates/main amd64 Packages [307 kB]\nFetched 8,467 kB in 2s (5,175 kB/s)\n\n\n\n\nThe following additional packages will be installed:\n  libamd2 libcolamd2 libglpk40 libsuitesparseconfig5\nSuggested packages:\n  libiodbc2-dev default-libmysqlclient-dev\nThe following NEW packages will be installed:\n  glpk-utils libamd2 libcolamd2 libglpk40 libsuitesparseconfig5\n0 upgraded, 5 newly installed, 0 to remove and 7 not upgraded.\nNeed to get 813 kB of archives.\nAfter this operation, 1,769 kB of additional disk space will be used.\nGet:1 http://deb.debian.org/debian buster/main amd64 libsuitesparseconfig5 amd64 1:5.4.0+dfsg-1 [20.9 kB]\nGet:2 http://deb.debian.org/debian buster/main amd64 libamd2 amd64 1:5.4.0+dfsg-1 [33.4 kB]\nGet:3 http://deb.debian.org/debian buster/main amd64 libcolamd2 amd64 1:5.4.0+dfsg-1 [30.3 kB]\nGet:4 http://deb.debian.org/debian buster/main amd64 libglpk40 amd64 4.65-2 [418 kB]\nGet:5 http://deb.debian.org/debian buster/main amd64 glpk-utils amd64 4.65-2 [310 kB]\nFetched 813 kB in 0s (44.1 MB/s)\ndebconf: delaying package configuration, since apt-utils is not installed\nSelecting previously unselected package libsuitesparseconfig5:amd64.\n(Reading database ... 31086 files and directories currently installed.)\nPreparing to unpack .../libsuitesparseconfig5_1%3a5.4.0+dfsg-1_amd64.deb ...\nUnpacking libsuitesparseconfig5:amd64 (1:5.4.0+dfsg-1) ...\nSelecting previously unselected package libamd2:amd64.\nPreparing to unpack .../libamd2_1%3a5.4.0+dfsg-1_amd64.deb ...\nUnpacking libamd2:amd64 (1:5.4.0+dfsg-1) ...\nSelecting previously unselected package libcolamd2:amd64.\nPreparing to unpack .../libcolamd2_1%3a5.4.0+dfsg-1_amd64.deb ...\nUnpacking libcolamd2:amd64 (1:5.4.0+dfsg-1) ...\nSelecting previously unselected package libglpk40:amd64.\nPreparing to unpack .../libglpk40_4.65-2_amd64.deb ...\nUnpacking libglpk40:amd64 (4.65-2) ...\nSelecting previously unselected package glpk-utils.\nPreparing to unpack .../glpk-utils_4.65-2_amd64.deb ...\nUnpacking glpk-utils (4.65-2) ...\nSetting up libsuitesparseconfig5:amd64 (1:5.4.0+dfsg-1) ...\nSetting up libamd2:amd64 (1:5.4.0+dfsg-1) ...\nSetting up libcolamd2:amd64 (1:5.4.0+dfsg-1) ...\nSetting up libglpk40:amd64 (4.65-2) ...\nSetting up glpk-utils (4.65-2) ...\nProcessing triggers for libc-bin (2.28-10) ...\n",
     "output_type": "stream"
    }
   ]
  },
  {
   "cell_type": "code",
   "metadata": {
    "id": "UqZWqqZOJ8Vs",
    "deepnote_to_be_reexecuted": false,
    "source_hash": "b22caef3",
    "execution_start": 1634487287212,
    "execution_millis": 349,
    "cell_id": "00001-a9704753-2c00-4605-9339-eb536f288f1a",
    "deepnote_cell_type": "code"
   },
   "source": "#importing library\nfrom pyomo.environ import *\nfrom pyomo.opt import *\n\nsolver= SolverFactory('glpk')\nmodel = ConcreteModel()\nmodel.dual=Suffix(direction=Suffix.IMPORT)\n",
   "outputs": [],
   "execution_count": null
  },
  {
   "cell_type": "code",
   "metadata": {
    "id": "YiK7fxVMDYpA",
    "deepnote_to_be_reexecuted": false,
    "source_hash": "bc64abc6",
    "execution_start": 1633981238223,
    "execution_millis": 4,
    "cell_id": "00003-b6ac215e-02be-46e3-b752-f2846fd2c6c4",
    "deepnote_cell_type": "code"
   },
   "source": "#creating non negative variables x and y\nmodel.x=Var([11,12,13,14,21,22,23,24,31,32,33,34], within=NonNegativeIntegers)\n",
   "execution_count": null,
   "outputs": []
  },
  {
   "cell_type": "code",
   "metadata": {
    "id": "zmBwj_eNX6Qr",
    "deepnote_to_be_reexecuted": false,
    "source_hash": "186608de",
    "execution_start": 1633981238234,
    "execution_millis": 16,
    "cell_id": "00004-909cd057-8bc6-4760-a782-24db13fcffb3",
    "deepnote_cell_type": "code"
   },
   "source": "#creating objective and constrains\nmodel.z=Objective(expr=(400*model.x[11] +650*model.x[12]+200*model.x[13] + 350*model.x[14] + 550*model.x[21]+ 700*model.x[22]+\n300*model.x[23] +500*model.x[24]+300*model.x[31] +600*model.x[32] +400*model.x[33]+450*model.x[34] +400))\nmodel.c1=Constraint(expr=(model.x[11] + model.x[12] +model.x[13]+model.x[14])<=12)\nmodel.c2=Constraint(expr=(model.x[21] + model.x[22] +model.x[23]+model.x[24])<=17)\nmodel.c3=Constraint(expr=(model.x[31] + model.x[32] +model.x[33]+model.x[34])<=11)\nmodel.c4=Constraint(expr=(model.x[11] + model.x[21] +model.x[31])>=10)\nmodel.c5=Constraint(expr=(model.x[12] + model.x[22] +model.x[32])>=10)\nmodel.c6=Constraint(expr=(model.x[13] + model.x[23] +model.x[33])>=10)\nmodel.c7=Constraint(expr=(model.x[14] + model.x[24] +model.x[34])>=10)\n\n\n",
   "execution_count": null,
   "outputs": []
  },
  {
   "cell_type": "code",
   "metadata": {
    "id": "ctNUX8bGW7Am",
    "colab": {
     "base_uri": "https://localhost:8080/"
    },
    "outputId": "dc889250-4f83-4928-ed47-5c6e2f353076",
    "deepnote_to_be_reexecuted": false,
    "source_hash": "b60018eb",
    "execution_start": 1633981238251,
    "execution_millis": 22,
    "cell_id": "00005-2ce27fa4-283c-4c49-8cd1-351b4562773d",
    "deepnote_cell_type": "code"
   },
   "source": "#solving\nresult= solver.solve(model)\n",
   "execution_count": null,
   "outputs": []
  },
  {
   "cell_type": "code",
   "metadata": {
    "colab": {
     "base_uri": "https://localhost:8080/"
    },
    "id": "rgBi-DdWDfud",
    "outputId": "a8c5de59-7a3c-4cc6-96bf-86fc9e00da28",
    "deepnote_to_be_reexecuted": false,
    "source_hash": "610c5d2f",
    "execution_start": 1633981238284,
    "execution_millis": 33,
    "cell_id": "00006-6627bde8-b937-4b01-95f4-b570ba5f7d6c",
    "deepnote_cell_type": "code"
   },
   "source": "model.x.get_values()\nmodel.z.expr()",
   "execution_count": null,
   "outputs": [
    {
     "output_type": "execute_result",
     "execution_count": 11,
     "data": {
      "text/plain": "16600.0"
     },
     "metadata": {}
    }
   ]
  },
  {
   "cell_type": "markdown",
   "source": "# ",
   "metadata": {
    "tags": [],
    "is_collapsed": false,
    "cell_id": "00011-3db868a7-6c4c-44ce-a4f6-35402df4047f",
    "deepnote_cell_type": "text-cell-h1"
   }
  },
  {
   "cell_type": "markdown",
   "source": "",
   "metadata": {
    "tags": [],
    "is_collapsed": false,
    "cell_id": "00012-e89233da-c158-4183-80a6-5e20c30f4e3b",
    "deepnote_cell_type": "text-cell-p"
   }
  },
  {
   "cell_type": "markdown",
   "source": "",
   "metadata": {
    "tags": [],
    "is_collapsed": false,
    "cell_id": "00013-c95cf71a-b1cf-4e25-91ad-42f311d2ee1f",
    "deepnote_cell_type": "text-cell-p"
   }
  },
  {
   "cell_type": "markdown",
   "source": "",
   "metadata": {
    "tags": [],
    "is_collapsed": false,
    "cell_id": "00014-9da558de-10de-4b12-a4e1-263da0f0e375",
    "deepnote_cell_type": "text-cell-p"
   }
  },
  {
   "cell_type": "markdown",
   "source": "",
   "metadata": {
    "tags": [],
    "is_collapsed": false,
    "cell_id": "00015-eef9ca84-76fc-46f0-ba92-a89e0e675398",
    "deepnote_cell_type": "text-cell-p"
   }
  },
  {
   "cell_type": "code",
   "metadata": {
    "tags": [],
    "cell_id": "00011-57fbe311-0275-4007-bcc9-5161f209994f",
    "deepnote_to_be_reexecuted": false,
    "source_hash": "6e0fab7c",
    "execution_start": 1633981238309,
    "execution_millis": 246,
    "deepnote_cell_type": "code"
   },
   "source": "#for part b it will be same as before\nmodel.z=Objective(expr=(400*model.x[11] +650*model.x[12]+200*model.x[13] + 350*model.x[14] + 550*model.x[21]+ 700*model.x[22]+\n300*model.x[23] +500*model.x[24]+300*model.x[31] +600*model.x[32] +400*model.x[33]+450*model.x[34] +400))\nmodel.c1=Constraint(expr=(model.x[11] + model.x[12] +model.x[13]+model.x[14])<=12)\nmodel.c2=Constraint(expr=(model.x[21] + model.x[22] +model.x[23]+model.x[24])<=17)\nmodel.c3=Constraint(expr=(model.x[31] + model.x[32] +model.x[33]+model.x[34])<=11)\nmodel.c4=Constraint(expr=(model.x[11] + model.x[21] +model.x[31])>=15)\nmodel.c5=Constraint(expr=(model.x[12] + model.x[22] +model.x[32])>=10)\nmodel.c6=Constraint(expr=(model.x[13] + model.x[23] +model.x[33])>=10)\nmodel.c7=Constraint(expr=(model.x[14] + model.x[24] +model.x[34])>=10)\nresult= solver.solve(model)\nmodel.x.get_values()\n\n\n",
   "execution_count": null,
   "outputs": [
    {
     "name": "stdout",
     "text": "WARNING: Implicitly replacing the Component attribute z (type=<class\n    'pyomo.core.base.objective.ScalarObjective'>) on block unknown with a new\n    Component (type=<class 'pyomo.core.base.objective.ScalarObjective'>). This\n    is usually indicative of a modelling error. To avoid this warning, use\n    block.del_component() and block.add_component().\nWARNING: Implicitly replacing the Component attribute c1 (type=<class\n    'pyomo.core.base.constraint.ScalarConstraint'>) on block unknown with a\n    new Component (type=<class\n    'pyomo.core.base.constraint.AbstractScalarConstraint'>). This is usually\n    indicative of a modelling error. To avoid this warning, use\n    block.del_component() and block.add_component().\nWARNING: Implicitly replacing the Component attribute c2 (type=<class\n    'pyomo.core.base.constraint.ScalarConstraint'>) on block unknown with a\n    new Component (type=<class\n    'pyomo.core.base.constraint.AbstractScalarConstraint'>). This is usually\n    indicative of a modelling error. To avoid this warning, use\n    block.del_component() and block.add_component().\nWARNING: Implicitly replacing the Component attribute c3 (type=<class\n    'pyomo.core.base.constraint.ScalarConstraint'>) on block unknown with a\n    new Component (type=<class\n    'pyomo.core.base.constraint.AbstractScalarConstraint'>). This is usually\n    indicative of a modelling error. To avoid this warning, use\n    block.del_component() and block.add_component().\nWARNING: Implicitly replacing the Component attribute c4 (type=<class\n    'pyomo.core.base.constraint.ScalarConstraint'>) on block unknown with a\n    new Component (type=<class\n    'pyomo.core.base.constraint.AbstractScalarConstraint'>). This is usually\n    indicative of a modelling error. To avoid this warning, use\n    block.del_component() and block.add_component().\nWARNING: Implicitly replacing the Component attribute c5 (type=<class\n    'pyomo.core.base.constraint.ScalarConstraint'>) on block unknown with a\n    new Component (type=<class\n    'pyomo.core.base.constraint.AbstractScalarConstraint'>). This is usually\n    indicative of a modelling error. To avoid this warning, use\n    block.del_component() and block.add_component().\nWARNING: Implicitly replacing the Component attribute c6 (type=<class\n    'pyomo.core.base.constraint.ScalarConstraint'>) on block unknown with a\n    new Component (type=<class\n    'pyomo.core.base.constraint.AbstractScalarConstraint'>). This is usually\n    indicative of a modelling error. To avoid this warning, use\n    block.del_component() and block.add_component().\nWARNING: Implicitly replacing the Component attribute c7 (type=<class\n    'pyomo.core.base.constraint.ScalarConstraint'>) on block unknown with a\n    new Component (type=<class\n    'pyomo.core.base.constraint.AbstractScalarConstraint'>). This is usually\n    indicative of a modelling error. To avoid this warning, use\n    block.del_component() and block.add_component().\n",
     "output_type": "stream"
    },
    {
     "output_type": "execute_result",
     "execution_count": 12,
     "data": {
      "text/plain": "{11: 0.0,\n 12: 0.0,\n 13: 2.0,\n 14: 10.0,\n 21: 0.0,\n 22: 9.0,\n 23: 8.0,\n 24: 0.0,\n 31: 10.0,\n 32: 1.0,\n 33: 0.0,\n 34: 0.0}"
     },
     "metadata": {}
    }
   ]
  },
  {
   "cell_type": "markdown",
   "source": "<a style='text-decoration:none;line-height:16px;display:flex;color:#5B5B62;padding:10px;justify-content:end;' href='https://deepnote.com?utm_source=created-in-deepnote-cell&projectId=61d9f83c-8db3-4de6-9c54-440927b39eca' target=\"_blank\">\n<img alt='Created in deepnote.com' style='display:inline;max-height:16px;margin:0px;margin-right:7.5px;' src='data:image/svg+xml;base64,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' > </img>\nCreated in <span style='font-weight:600;margin-left:4px;'>Deepnote</span></a>",
   "metadata": {
    "tags": [],
    "created_in_deepnote_cell": true,
    "deepnote_cell_type": "markdown"
   }
  }
 ],
 "nbformat": 4,
 "nbformat_minor": 0,
 "metadata": {
  "colab": {
   "name": "operation research",
   "provenance": [],
   "collapsed_sections": [],
   "toc_visible": true
  },
  "kernelspec": {
   "name": "python3",
   "display_name": "Python 3"
  },
  "language_info": {
   "name": "python"
  },
  "deepnote_notebook_id": "6515d4a0-859c-42dc-925c-82fe74e13eb9",
  "deepnote": {},
  "deepnote_execution_queue": []
 }
}