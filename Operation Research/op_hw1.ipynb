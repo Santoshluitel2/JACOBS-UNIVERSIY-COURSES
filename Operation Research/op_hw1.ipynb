{
 "cells": [
  {
   "cell_type": "code",
   "metadata": {
    "colab": {
     "base_uri": "https://localhost:8080/"
    },
    "id": "XrC6cTHpJKUP",
    "outputId": "f82f1230-522d-43e2-b366-1f812a5f4da5",
    "cell_id": "00000-23a5dad1-a5bf-4c25-ab54-a05c5394e674",
    "deepnote_to_be_reexecuted": false,
    "source_hash": "60e54843",
    "execution_start": 1632762496029,
    "execution_millis": 4,
    "deepnote_cell_type": "code"
   },
   "source": "#googlecollab \n# !apt-get install -y -qq glpk-utils\n#!pip install pyomo\n\n#for ubuntu\n#!pip install pyomo\n#!sudo apt-get update -y \n#!sudo apt-get install -y glpk-utils",
   "execution_count": 1,
   "outputs": []
  },
  {
   "cell_type": "code",
   "metadata": {
    "id": "UqZWqqZOJ8Vs",
    "cell_id": "00001-7b47526f-444a-46c8-98fc-60b587967bee",
    "deepnote_to_be_reexecuted": false,
    "source_hash": "36b0f5e1",
    "execution_start": 1632762496039,
    "execution_millis": 182,
    "deepnote_cell_type": "code"
   },
   "source": "#importing library\nimport pyomo.environ as pe\nimport pyomo.opt as po\nsolver= po.SolverFactory('glpk')\nmodel = pe.ConcreteModel()",
   "execution_count": 2,
   "outputs": []
  },
  {
   "cell_type": "code",
   "metadata": {
    "id": "YiK7fxVMDYpA",
    "cell_id": "00002-a9f856ad-ae46-4b5a-a413-14342683da85",
    "deepnote_to_be_reexecuted": false,
    "source_hash": "1dc054a3",
    "execution_start": 1632762496265,
    "execution_millis": 0,
    "deepnote_cell_type": "code"
   },
   "source": "#creating non negative variables x1 and x2\nmodel.x1=pe.Var(domain=pe.NonNegativeReals)\nmodel.x2=pe.Var(domain=pe.NonNegativeReals)",
   "execution_count": 3,
   "outputs": []
  },
  {
   "cell_type": "code",
   "metadata": {
    "id": "zmBwj_eNX6Qr",
    "cell_id": "00003-e62469ae-7d65-40d3-a60b-76bdd181a40d",
    "deepnote_to_be_reexecuted": false,
    "source_hash": "18af9b96",
    "execution_start": 1632762496266,
    "execution_millis": 0,
    "deepnote_cell_type": "code"
   },
   "source": "#creating objective and constrains\nobj_expr= model.x1 +2*model.x2\nmodel.obj=pe.Objective(sense=pe.maximize,expr=obj_expr)\ncon1= (model.x1 + 3*model.x2)<=8\ncon2= (model.x1 + model.x2)<=4\nmodel.con1=pe.Constraint(expr=con1)\nmodel.con2=pe.Constraint(expr=con2)\n",
   "execution_count": 4,
   "outputs": []
  },
  {
   "cell_type": "code",
   "metadata": {
    "id": "ctNUX8bGW7Am",
    "colab": {
     "base_uri": "https://localhost:8080/"
    },
    "outputId": "dc889250-4f83-4928-ed47-5c6e2f353076",
    "cell_id": "00004-251a995f-c591-4600-85fe-7445170ec5b7",
    "deepnote_to_be_reexecuted": false,
    "source_hash": "dbff92d1",
    "execution_start": 1632762496267,
    "execution_millis": 18,
    "deepnote_cell_type": "code"
   },
   "source": "#solving\nresult= solver.solve(model,tee=True)\n",
   "execution_count": 5,
   "outputs": [
    {
     "name": "stdout",
     "text": "GLPSOL: GLPK LP/MIP Solver, v4.65\nParameter(s) specified in the command line:\n --write /tmp/tmpfw0_u5ed.glpk.raw --wglp /tmp/tmps47_7v4d.glpk.glp --cpxlp\n /tmp/tmp3hvqxnox.pyomo.lp\nReading problem data from '/tmp/tmp3hvqxnox.pyomo.lp'...\n3 rows, 3 columns, 5 non-zeros\n26 lines were read\nWriting problem data to '/tmp/tmps47_7v4d.glpk.glp'...\n19 lines were written\nGLPK Simplex Optimizer, v4.65\n3 rows, 3 columns, 5 non-zeros\nPreprocessing...\n2 rows, 2 columns, 4 non-zeros\nScaling...\n A: min|aij| =  1.000e+00  max|aij| =  3.000e+00  ratio =  3.000e+00\nProblem data seem to be well scaled\nConstructing initial basis...\nSize of triangular part is 2\n*     0: obj =  -0.000000000e+00 inf =   0.000e+00 (2)\n*     2: obj =   6.000000000e+00 inf =   0.000e+00 (0)\nOPTIMAL LP SOLUTION FOUND\nTime used:   0.0 secs\nMemory used: 0.0 Mb (40412 bytes)\nWriting basic solution to '/tmp/tmpfw0_u5ed.glpk.raw'...\n15 lines were written\n",
     "output_type": "stream"
    }
   ]
  },
  {
   "cell_type": "code",
   "metadata": {
    "colab": {
     "base_uri": "https://localhost:8080/"
    },
    "id": "rgBi-DdWDfud",
    "outputId": "a8c5de59-7a3c-4cc6-96bf-86fc9e00da28",
    "cell_id": "00005-a1765aa8-e6c5-47b0-a111-0548e9b80283",
    "deepnote_to_be_reexecuted": false,
    "source_hash": "7b98080b",
    "execution_start": 1632762496271,
    "execution_millis": 15,
    "deepnote_cell_type": "code"
   },
   "source": "#final result\nprint(\"the value of x1 is \" +  str(pe.value(model.x1)))\nprint(\"the value of x2 is \" + str(pe.value(model.x2)))\nprint(\"the maximum value is \" + str(pe.value(model.obj)))",
   "execution_count": 6,
   "outputs": [
    {
     "name": "stdout",
     "text": "the value of x1 is 2.0\nthe value of x2 is 2.0\nthe maximum value is 6.0\n",
     "output_type": "stream"
    }
   ]
  },
  {
   "cell_type": "code",
   "metadata": {
    "id": "OVklE9zbc4FX",
    "cell_id": "00006-aeafcceb-e70a-4dea-8560-6ac968996dc1",
    "deepnote_to_be_reexecuted": false,
    "source_hash": "b623e53d",
    "execution_start": 1632762496279,
    "execution_millis": 2,
    "deepnote_cell_type": "code"
   },
   "source": "",
   "execution_count": 6,
   "outputs": []
  },
  {
   "cell_type": "markdown",
   "source": "<a style='text-decoration:none;line-height:16px;display:flex;color:#5B5B62;padding:10px;justify-content:end;' href='https://deepnote.com?utm_source=created-in-deepnote-cell&projectId=61d9f83c-8db3-4de6-9c54-440927b39eca' target=\"_blank\">\n<img alt='Created in deepnote.com' style='display:inline;max-height:16px;margin:0px;margin-right:7.5px;' src='data:image/svg+xml;base64,PD94bWwgdmVyc2lvbj0iMS4wIiBlbmNvZGluZz0iVVRGLTgiPz4KPHN2ZyB3aWR0aD0iODBweCIgaGVpZ2h0PSI4MHB4IiB2aWV3Qm94PSIwIDAgODAgODAiIHZlcnNpb249IjEuMSIgeG1sbnM9Imh0dHA6Ly93d3cudzMub3JnLzIwMDAvc3ZnIiB4bWxuczp4bGluaz0iaHR0cDovL3d3dy53My5vcmcvMTk5OS94bGluayI+CiAgICA8IS0tIEdlbmVyYXRvcjogU2tldGNoIDU0LjEgKDc2NDkwKSAtIGh0dHBzOi8vc2tldGNoYXBwLmNvbSAtLT4KICAgIDx0aXRsZT5Hcm91cCAzPC90aXRsZT4KICAgIDxkZXNjPkNyZWF0ZWQgd2l0aCBTa2V0Y2guPC9kZXNjPgogICAgPGcgaWQ9IkxhbmRpbmciIHN0cm9rZT0ibm9uZSIgc3Ryb2tlLXdpZHRoPSIxIiBmaWxsPSJub25lIiBmaWxsLXJ1bGU9ImV2ZW5vZGQiPgogICAgICAgIDxnIGlkPSJBcnRib2FyZCIgdHJhbnNmb3JtPSJ0cmFuc2xhdGUoLTEyMzUuMDAwMDAwLCAtNzkuMDAwMDAwKSI+CiAgICAgICAgICAgIDxnIGlkPSJHcm91cC0zIiB0cmFuc2Zvcm09InRyYW5zbGF0ZSgxMjM1LjAwMDAwMCwgNzkuMDAwMDAwKSI+CiAgICAgICAgICAgICAgICA8cG9seWdvbiBpZD0iUGF0aC0yMCIgZmlsbD0iIzAyNjVCNCIgcG9pbnRzPSIyLjM3NjIzNzYyIDgwIDM4LjA0NzY2NjcgODAgNTcuODIxNzgyMiA3My44MDU3NTkyIDU3LjgyMTc4MjIgMzIuNzU5MjczOSAzOS4xNDAyMjc4IDMxLjY4MzE2ODMiPjwvcG9seWdvbj4KICAgICAgICAgICAgICAgIDxwYXRoIGQ9Ik0zNS4wMDc3MTgsODAgQzQyLjkwNjIwMDcsNzYuNDU0OTM1OCA0Ny41NjQ5MTY3LDcxLjU0MjI2NzEgNDguOTgzODY2LDY1LjI2MTk5MzkgQzUxLjExMjI4OTksNTUuODQxNTg0MiA0MS42NzcxNzk1LDQ5LjIxMjIyODQgMjUuNjIzOTg0Niw0OS4yMTIyMjg0IEMyNS40ODQ5Mjg5LDQ5LjEyNjg0NDggMjkuODI2MTI5Niw0My4yODM4MjQ4IDM4LjY0NzU4NjksMzEuNjgzMTY4MyBMNzIuODcxMjg3MSwzMi41NTQ0MjUgTDY1LjI4MDk3Myw2Ny42NzYzNDIxIEw1MS4xMTIyODk5LDc3LjM3NjE0NCBMMzUuMDA3NzE4LDgwIFoiIGlkPSJQYXRoLTIyIiBmaWxsPSIjMDAyODY4Ij48L3BhdGg+CiAgICAgICAgICAgICAgICA8cGF0aCBkPSJNMCwzNy43MzA0NDA1IEwyNy4xMTQ1MzcsMC4yNTcxMTE0MzYgQzYyLjM3MTUxMjMsLTEuOTkwNzE3MDEgODAsMTAuNTAwMzkyNyA4MCwzNy43MzA0NDA1IEM4MCw2NC45NjA0ODgyIDY0Ljc3NjUwMzgsNzkuMDUwMzQxNCAzNC4zMjk1MTEzLDgwIEM0Ny4wNTUzNDg5LDc3LjU2NzA4MDggNTMuNDE4MjY3Nyw3MC4zMTM2MTAzIDUzLjQxODI2NzcsNTguMjM5NTg4NSBDNTMuNDE4MjY3Nyw0MC4xMjg1NTU3IDM2LjMwMzk1NDQsMzcuNzMwNDQwNSAyNS4yMjc0MTcsMzcuNzMwNDQwNSBDMTcuODQzMDU4NiwzNy43MzA0NDA1IDkuNDMzOTE5NjYsMzcuNzMwNDQwNSAwLDM3LjczMDQ0MDUgWiIgaWQ9IlBhdGgtMTkiIGZpbGw9IiMzNzkzRUYiPjwvcGF0aD4KICAgICAgICAgICAgPC9nPgogICAgICAgIDwvZz4KICAgIDwvZz4KPC9zdmc+' > </img>\nCreated in <span style='font-weight:600;margin-left:4px;'>Deepnote</span></a>",
   "metadata": {
    "tags": [],
    "created_in_deepnote_cell": true,
    "deepnote_cell_type": "markdown"
   }
  }
 ],
 "nbformat": 4,
 "nbformat_minor": 0,
 "metadata": {
  "colab": {
   "name": "operation research",
   "provenance": [],
   "collapsed_sections": [],
   "toc_visible": true
  },
  "kernelspec": {
   "name": "python3",
   "display_name": "Python 3"
  },
  "language_info": {
   "name": "python"
  },
  "deepnote_notebook_id": "fea252bd-94b5-40f8-b1e3-f60658252c08",
  "deepnote": {},
  "deepnote_execution_queue": []
 }
}